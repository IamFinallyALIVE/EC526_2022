{
 "cells": [
  {
   "cell_type": "markdown",
   "metadata": {},
   "source": [
    "# Realtime plots of running code\n",
    "March 30, 2022"
   ]
  },
  {
   "cell_type": "code",
   "execution_count": 1,
   "metadata": {},
   "outputs": [],
   "source": [
    "import numpy as np\n",
    "import matplotlib.pyplot as plt\n",
    "from IPython.display import clear_output\n",
    "\n",
    "import subprocess as sp"
   ]
  },
  {
   "cell_type": "markdown",
   "metadata": {},
   "source": [
    "## Run the code \n",
    "Can do this in a separate terminal as well"
   ]
  },
  {
   "cell_type": "code",
   "execution_count": 2,
   "metadata": {},
   "outputs": [
    {
     "name": "stdout",
     "output_type": "stream",
     "text": [
      "make \n",
      " ./torus_md\n"
     ]
    }
   ],
   "source": [
    "cmd='make \\n ./torus_md'\n",
    "print(cmd)"
   ]
  },
  {
   "cell_type": "code",
   "execution_count": 3,
   "metadata": {
    "tags": []
   },
   "outputs": [
    {
     "name": "stdout",
     "output_type": "stream",
     "text": [
      "b'c++ -g -Wall   -c -o torus_md.o torus_md.cpp\\ng++ -g -Wall  torus_md.o   -o torus_md\\n'\n"
     ]
    }
   ],
   "source": [
    "op=sp.check_output(cmd,shell=True)\n",
    "print(op)"
   ]
  },
  {
   "cell_type": "markdown",
   "metadata": {},
   "source": [
    "## Plot the solution from saved file, as code runs.\n",
    "\n",
    "Reads data from file. \n",
    "\n",
    "Data must be in the form : x1,y1\\tx2,y2\\tx3,y3...xn,yn\\n format\n",
    "\n",
    "i.e. x,y for each point separated by \\t with new line at the end."
   ]
  },
  {
   "cell_type": "code",
   "execution_count": 4,
   "metadata": {},
   "outputs": [],
   "source": [
    "def f_plot_realtime(op_file,first=0,last=50,step=1,pause=1,last_only=False):\n",
    "    '''\n",
    "    num= Number of plots you want\n",
    "    pause=time before it loads next dataset\n",
    "    last_only= True implies it will only plot the last line of the file\n",
    "    \n",
    "    '''\n",
    "    \n",
    "    plt.rcParams[\"figure.figsize\"]=(4,4)\n",
    "    for i in range(first,last,step):\n",
    "        # Read file. Do this each time so that update of file by the code can be taken into account\n",
    "        with open(op_file,'r') as f:\n",
    "            lst=f.readlines()\n",
    "        \n",
    "        print(len(lst))\n",
    "        if last_only: idx=-1 ## Plot just the last entry of the file\n",
    "        else: idx=i\n",
    "        \n",
    "        total=len(lst)\n",
    "        if idx>=total: break\n",
    "\n",
    "        ## Pick selected iteration from file\n",
    "        arr=np.array([ii.split(',') for ii in lst[idx].split('\\t')][:-1],dtype=np.float64)\n",
    "        clear_output(wait=True)  \n",
    "        plt.title('Iteration={0}'.format(idx))\n",
    "        x=arr[:,0]\n",
    "        y=arr[:,1]\n",
    "        plt.scatter(x,y)\n",
    "        plt.pause(pause)\n",
    "        plt.draw()\n"
   ]
  },
  {
   "cell_type": "code",
   "execution_count": 5,
   "metadata": {},
   "outputs": [
    {
     "data": {
      "image/png": "[encoded data removed]",
      "text/plain": [
       "<Figure size 288x288 with 1 Axes>"
      ]
     },
     "metadata": {
      "needs_background": "light"
     },
     "output_type": "display_data"
    },
    {
     "data": {
      "text/plain": [
       "<Figure size 288x288 with 0 Axes>"
      ]
     },
     "metadata": {},
     "output_type": "display_data"
    }
   ],
   "source": [
    "ans=f_plot_realtime(op_file='op.out',first=0,last=200,step=1,pause=0.2,last_only=False)"
   ]
  },
  {
   "cell_type": "code",
   "execution_count": null,
   "metadata": {},
   "outputs": [],
   "source": []
  }
 ],
 "metadata": {
  "kernelspec": {
   "display_name": "Python 3",
   "language": "python",
   "name": "python3"
  },
  "language_info": {
   "codemirror_mode": {
    "name": "ipython",
    "version": 3
   },
   "file_extension": ".py",
   "mimetype": "text/x-python",
   "name": "python",
   "nbconvert_exporter": "python",
   "pygments_lexer": "ipython3",
   "version": "3.8.5"
  }
 },
 "nbformat": 4,
 "nbformat_minor": 5
}
